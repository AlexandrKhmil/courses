{
 "cells": [
  {
   "cell_type": "markdown",
   "metadata": {},
   "source": [
    "# Getting Started\n",
    "\n",
    "## BigQuery Commands"
   ]
  },
  {
   "cell_type": "code",
   "execution_count": 1,
   "metadata": {},
   "outputs": [],
   "source": [
    "from google.cloud import bigquery"
   ]
  },
  {
   "cell_type": "markdown",
   "metadata": {},
   "source": [
    "**Client** to bundle configuration needed for API requests."
   ]
  },
  {
   "cell_type": "code",
   "execution_count": 2,
   "metadata": {},
   "outputs": [],
   "source": [
    "client = bigquery.Client()"
   ]
  },
  {
   "cell_type": "markdown",
   "metadata": {},
   "source": [
    "In BigQuery, each dataset is contained in a corresponding project. In this case, our `hacker_news` dataset is contained in the `bigquery-public-data project`.\n",
    "\n",
    "To access the dataset:\n",
    "\n",
    "1. We begin by constructing a reference to the dataset with the dataset() method. \n",
    "2. Next, we use the `get_dataset()` method, along with the reference we just constructed, to fetch the dataset.\n"
   ]
  },
  {
   "cell_type": "code",
   "execution_count": 3,
   "metadata": {},
   "outputs": [],
   "source": [
    "# Reference to dataset\n",
    "dataset_ref = client.dataset(\"hacker_news\", project=\"bigquery-public-data\")\n",
    "\n",
    "# API request - Fetch the dataset\n",
    "dataset = client.get_dataset(dataset_ref)"
   ]
  },
  {
   "cell_type": "markdown",
   "metadata": {},
   "source": [
    "Every dataset is just a collection of tables. "
   ]
  },
  {
   "cell_type": "code",
   "execution_count": 4,
   "metadata": {},
   "outputs": [
    {
     "name": "stdout",
     "output_type": "stream",
     "text": [
      "comments\n",
      "full\n",
      "full_201510\n",
      "stories\n"
     ]
    }
   ],
   "source": [
    "# List all the tables in the \"hacker_news\" dataset\n",
    "tables = list(client.list_tables(dataset))\n",
    "\n",
    "# Print names of all tables in the dataset\n",
    "for table in tables: print(table.table_id)"
   ]
  },
  {
   "cell_type": "markdown",
   "metadata": {},
   "source": [
    "Similar to how we fetched a dataset, we can fetch a table."
   ]
  },
  {
   "cell_type": "code",
   "execution_count": 5,
   "metadata": {},
   "outputs": [],
   "source": [
    "# Reference to the 'full' table\n",
    "table_ref = dataset_ref.table(\"full\")\n",
    "\n",
    "# API request - fetch the table\n",
    "table = client.get_table(table_ref)"
   ]
  },
  {
   "cell_type": "markdown",
   "metadata": {},
   "source": [
    "![image.png](https://i.imgur.com/biYqbUB.png)"
   ]
  },
  {
   "cell_type": "markdown",
   "metadata": {},
   "source": [
    "---\n",
    "\n",
    "## Table schema\n",
    "\n",
    "The structure of a table is called its **schema**.\n",
    "\n",
    "Each `SchemaField` tells us about a specific column (which we also refer to as a **field**).\n",
    "\n",
    "1. The `name` of the column;\n",
    "2. The `field type` (or datatype) in the column;\n",
    "3. The `mode` of the column (`'NULLABLE'` means that a column allows `NULL` values, and is the `default`);\n",
    "4. A `description` of the data in that column.\n"
   ]
  },
  {
   "cell_type": "code",
   "execution_count": 6,
   "metadata": {},
   "outputs": [
    {
     "name": "stdout",
     "output_type": "stream",
     "text": [
      "SchemaField('title', 'STRING', 'NULLABLE', 'Story title', ())\n",
      "SchemaField('url', 'STRING', 'NULLABLE', 'Story url', ())\n",
      "SchemaField('text', 'STRING', 'NULLABLE', 'Story or comment text', ())\n",
      "SchemaField('dead', 'BOOLEAN', 'NULLABLE', 'Is dead?', ())\n",
      "SchemaField('by', 'STRING', 'NULLABLE', \"The username of the item's author.\", ())\n",
      "SchemaField('score', 'INTEGER', 'NULLABLE', 'Story score', ())\n",
      "SchemaField('time', 'INTEGER', 'NULLABLE', 'Unix time', ())\n",
      "SchemaField('timestamp', 'TIMESTAMP', 'NULLABLE', 'Timestamp for the unix time', ())\n",
      "SchemaField('type', 'STRING', 'NULLABLE', 'Type of details (comment, comment_ranking, poll, story, job, pollopt)', ())\n",
      "SchemaField('id', 'INTEGER', 'NULLABLE', \"The item's unique id.\", ())\n",
      "SchemaField('parent', 'INTEGER', 'NULLABLE', 'Parent comment ID', ())\n",
      "SchemaField('descendants', 'INTEGER', 'NULLABLE', 'Number of story or poll descendants', ())\n",
      "SchemaField('ranking', 'INTEGER', 'NULLABLE', 'Comment ranking', ())\n",
      "SchemaField('deleted', 'BOOLEAN', 'NULLABLE', 'Is deleted?', ())\n"
     ]
    }
   ],
   "source": [
    "for schema_field in table.schema: print(schema_field)"
   ]
  },
  {
   "cell_type": "markdown",
   "metadata": {},
   "source": [
    "We can use the `list_rows()` method to check just the first five lines of of the full table to make sure this is right. (Sometimes databases have outdated descriptions, so it's good to check.) \n",
    "\n",
    "This returns a BigQuery `RowIterator` object that can quickly be converted to a pandas DataFrame with the `to_dataframe()` method."
   ]
  },
  {
   "cell_type": "code",
   "execution_count": 7,
   "metadata": {},
   "outputs": [
    {
     "data": {
      "text/html": [
       "<div>\n",
       "<style scoped>\n",
       "    .dataframe tbody tr th:only-of-type {\n",
       "        vertical-align: middle;\n",
       "    }\n",
       "\n",
       "    .dataframe tbody tr th {\n",
       "        vertical-align: top;\n",
       "    }\n",
       "\n",
       "    .dataframe thead th {\n",
       "        text-align: right;\n",
       "    }\n",
       "</style>\n",
       "<table border=\"1\" class=\"dataframe\">\n",
       "  <thead>\n",
       "    <tr style=\"text-align: right;\">\n",
       "      <th></th>\n",
       "      <th>title</th>\n",
       "      <th>url</th>\n",
       "      <th>text</th>\n",
       "      <th>dead</th>\n",
       "      <th>by</th>\n",
       "      <th>score</th>\n",
       "      <th>time</th>\n",
       "      <th>timestamp</th>\n",
       "      <th>type</th>\n",
       "      <th>id</th>\n",
       "      <th>parent</th>\n",
       "      <th>descendants</th>\n",
       "      <th>ranking</th>\n",
       "      <th>deleted</th>\n",
       "    </tr>\n",
       "  </thead>\n",
       "  <tbody>\n",
       "    <tr>\n",
       "      <th>0</th>\n",
       "      <td>None</td>\n",
       "      <td>None</td>\n",
       "      <td>Lol, yes! Safari can sometimes feel like the n...</td>\n",
       "      <td>None</td>\n",
       "      <td>osrec</td>\n",
       "      <td>NaN</td>\n",
       "      <td>1505158465</td>\n",
       "      <td>2017-09-11 19:34:25+00:00</td>\n",
       "      <td>comment</td>\n",
       "      <td>15221546</td>\n",
       "      <td>15221525.0</td>\n",
       "      <td>NaN</td>\n",
       "      <td>None</td>\n",
       "      <td>None</td>\n",
       "    </tr>\n",
       "    <tr>\n",
       "      <th>1</th>\n",
       "      <td>Uber Got Off Easy</td>\n",
       "      <td>https://jalopnik.com/uber-got-off-easy-1839948349</td>\n",
       "      <td>None</td>\n",
       "      <td>None</td>\n",
       "      <td>lawrenceyan</td>\n",
       "      <td>2.0</td>\n",
       "      <td>1574776920</td>\n",
       "      <td>2019-11-26 14:02:00+00:00</td>\n",
       "      <td>story</td>\n",
       "      <td>21638297</td>\n",
       "      <td>NaN</td>\n",
       "      <td>0.0</td>\n",
       "      <td>None</td>\n",
       "      <td>None</td>\n",
       "    </tr>\n",
       "    <tr>\n",
       "      <th>2</th>\n",
       "      <td>None</td>\n",
       "      <td>None</td>\n",
       "      <td>Also those who review the open sourced code co...</td>\n",
       "      <td>None</td>\n",
       "      <td>giancarlostoro</td>\n",
       "      <td>NaN</td>\n",
       "      <td>1505735829</td>\n",
       "      <td>2017-09-18 11:57:09+00:00</td>\n",
       "      <td>comment</td>\n",
       "      <td>15275056</td>\n",
       "      <td>15274950.0</td>\n",
       "      <td>NaN</td>\n",
       "      <td>None</td>\n",
       "      <td>None</td>\n",
       "    </tr>\n",
       "    <tr>\n",
       "      <th>3</th>\n",
       "      <td>None</td>\n",
       "      <td>None</td>\n",
       "      <td>Microsoft OneDrive for Business is moving in t...</td>\n",
       "      <td>None</td>\n",
       "      <td>SREinSF</td>\n",
       "      <td>NaN</td>\n",
       "      <td>1499058110</td>\n",
       "      <td>2017-07-03 05:01:50+00:00</td>\n",
       "      <td>comment</td>\n",
       "      <td>14685946</td>\n",
       "      <td>14685920.0</td>\n",
       "      <td>NaN</td>\n",
       "      <td>None</td>\n",
       "      <td>None</td>\n",
       "    </tr>\n",
       "    <tr>\n",
       "      <th>4</th>\n",
       "      <td>None</td>\n",
       "      <td>None</td>\n",
       "      <td>maybe, but any regular human being might not w...</td>\n",
       "      <td>None</td>\n",
       "      <td>colorincorrect</td>\n",
       "      <td>NaN</td>\n",
       "      <td>1580281613</td>\n",
       "      <td>2020-01-29 07:06:53+00:00</td>\n",
       "      <td>comment</td>\n",
       "      <td>22178198</td>\n",
       "      <td>22177697.0</td>\n",
       "      <td>NaN</td>\n",
       "      <td>None</td>\n",
       "      <td>None</td>\n",
       "    </tr>\n",
       "  </tbody>\n",
       "</table>\n",
       "</div>"
      ],
      "text/plain": [
       "               title                                                url  \\\n",
       "0               None                                               None   \n",
       "1  Uber Got Off Easy  https://jalopnik.com/uber-got-off-easy-1839948349   \n",
       "2               None                                               None   \n",
       "3               None                                               None   \n",
       "4               None                                               None   \n",
       "\n",
       "                                                text  dead              by  \\\n",
       "0  Lol, yes! Safari can sometimes feel like the n...  None           osrec   \n",
       "1                                               None  None     lawrenceyan   \n",
       "2  Also those who review the open sourced code co...  None  giancarlostoro   \n",
       "3  Microsoft OneDrive for Business is moving in t...  None         SREinSF   \n",
       "4  maybe, but any regular human being might not w...  None  colorincorrect   \n",
       "\n",
       "   score        time                 timestamp     type        id      parent  \\\n",
       "0    NaN  1505158465 2017-09-11 19:34:25+00:00  comment  15221546  15221525.0   \n",
       "1    2.0  1574776920 2019-11-26 14:02:00+00:00    story  21638297         NaN   \n",
       "2    NaN  1505735829 2017-09-18 11:57:09+00:00  comment  15275056  15274950.0   \n",
       "3    NaN  1499058110 2017-07-03 05:01:50+00:00  comment  14685946  14685920.0   \n",
       "4    NaN  1580281613 2020-01-29 07:06:53+00:00  comment  22178198  22177697.0   \n",
       "\n",
       "   descendants ranking deleted  \n",
       "0          NaN    None    None  \n",
       "1          0.0    None    None  \n",
       "2          NaN    None    None  \n",
       "3          NaN    None    None  \n",
       "4          NaN    None    None  "
      ]
     },
     "execution_count": 7,
     "metadata": {},
     "output_type": "execute_result"
    }
   ],
   "source": [
    "client.list_rows(table, max_results=5).to_dataframe()"
   ]
  },
  {
   "cell_type": "markdown",
   "metadata": {},
   "source": [
    "The `list_rows()` method will also let us look at just the information in a specific column. "
   ]
  },
  {
   "cell_type": "code",
   "execution_count": 8,
   "metadata": {},
   "outputs": [
    {
     "data": {
      "text/html": [
       "<div>\n",
       "<style scoped>\n",
       "    .dataframe tbody tr th:only-of-type {\n",
       "        vertical-align: middle;\n",
       "    }\n",
       "\n",
       "    .dataframe tbody tr th {\n",
       "        vertical-align: top;\n",
       "    }\n",
       "\n",
       "    .dataframe thead th {\n",
       "        text-align: right;\n",
       "    }\n",
       "</style>\n",
       "<table border=\"1\" class=\"dataframe\">\n",
       "  <thead>\n",
       "    <tr style=\"text-align: right;\">\n",
       "      <th></th>\n",
       "      <th>text</th>\n",
       "    </tr>\n",
       "  </thead>\n",
       "  <tbody>\n",
       "    <tr>\n",
       "      <th>0</th>\n",
       "      <td>Lol, yes! Safari can sometimes feel like the n...</td>\n",
       "    </tr>\n",
       "    <tr>\n",
       "      <th>1</th>\n",
       "      <td>None</td>\n",
       "    </tr>\n",
       "    <tr>\n",
       "      <th>2</th>\n",
       "      <td>Also those who review the open sourced code co...</td>\n",
       "    </tr>\n",
       "    <tr>\n",
       "      <th>3</th>\n",
       "      <td>Microsoft OneDrive for Business is moving in t...</td>\n",
       "    </tr>\n",
       "    <tr>\n",
       "      <th>4</th>\n",
       "      <td>maybe, but any regular human being might not w...</td>\n",
       "    </tr>\n",
       "  </tbody>\n",
       "</table>\n",
       "</div>"
      ],
      "text/plain": [
       "                                                text\n",
       "0  Lol, yes! Safari can sometimes feel like the n...\n",
       "1                                               None\n",
       "2  Also those who review the open sourced code co...\n",
       "3  Microsoft OneDrive for Business is moving in t...\n",
       "4  maybe, but any regular human being might not w..."
      ]
     },
     "execution_count": 8,
     "metadata": {},
     "output_type": "execute_result"
    }
   ],
   "source": [
    "client.list_rows(table, selected_fields=table.schema[2:3], max_results=5).to_dataframe()"
   ]
  },
  {
   "cell_type": "markdown",
   "metadata": {},
   "source": [
    "---\n",
    "\n",
    "## Exercise"
   ]
  },
  {
   "cell_type": "code",
   "execution_count": 9,
   "metadata": {},
   "outputs": [],
   "source": [
    "from google.cloud import bigquery\n",
    "\n",
    "client = bigquery.Client()\n",
    "dataset_ref = client.dataset(\"chicago_crime\", project=\"bigquery-public-data\")\n",
    "dataset = client.get_dataset(dataset_ref)"
   ]
  },
  {
   "cell_type": "markdown",
   "metadata": {},
   "source": [
    "### 1) Count tables in the dataset"
   ]
  },
  {
   "cell_type": "code",
   "execution_count": 10,
   "metadata": {},
   "outputs": [
    {
     "name": "stdout",
     "output_type": "stream",
     "text": [
      "1\n"
     ]
    }
   ],
   "source": [
    "print(len(list(client.list_tables(dataset))))"
   ]
  },
  {
   "cell_type": "markdown",
   "metadata": {},
   "source": [
    "### 2) Explore the table schema. How many columns in the crime table have TIMESTAMP data?"
   ]
  },
  {
   "cell_type": "code",
   "execution_count": 11,
   "metadata": {},
   "outputs": [
    {
     "name": "stdout",
     "output_type": "stream",
     "text": [
      "2\n"
     ]
    }
   ],
   "source": [
    "from functools import reduce\n",
    "\n",
    "table_ref = dataset_ref.table(\"crime\")\n",
    "table = client.get_table(table_ref)\n",
    "\n",
    "l_calc_timestamp = lambda prev, schemaField: prev + (1 if schemaField.field_type == 'TIMESTAMP' else 0)\n",
    "print(reduce(l_calc_timestamp, [0, *list(table.schema)]))"
   ]
  },
  {
   "cell_type": "markdown",
   "metadata": {},
   "source": [
    "### 3) Create a crime map\n",
    "\n",
    "If you wanted to create a map with a dot at the location of each crime, what are the names of the two fields you likely need to pull out of the `crime` table to plot the crimes on a map?"
   ]
  },
  {
   "cell_type": "markdown",
   "metadata": {},
   "source": [
    "`['x_coordinate', 'y_coordinate']` or `['latitude', 'longitude']`"
   ]
  }
 ],
 "metadata": {
  "file_extension": ".py",
  "kernelspec": {
   "display_name": "Python 3.8.2 64-bit",
   "language": "python",
   "name": "python38264bit27f842249e0b405c81d52557c393d30f"
  },
  "language_info": {
   "codemirror_mode": {
    "name": "ipython",
    "version": 3
   },
   "file_extension": ".py",
   "mimetype": "text/x-python",
   "name": "python",
   "nbconvert_exporter": "python",
   "pygments_lexer": "ipython3",
   "version": "3.8.2"
  },
  "mimetype": "text/x-python",
  "name": "python",
  "npconvert_exporter": "python",
  "pygments_lexer": "ipython3",
  "version": 3
 },
 "nbformat": 4,
 "nbformat_minor": 4
}
